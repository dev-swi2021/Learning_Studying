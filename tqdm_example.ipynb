{
  "nbformat": 4,
  "nbformat_minor": 0,
  "metadata": {
    "colab": {
      "name": "tqdm_example.ipynb",
      "provenance": []
    },
    "kernelspec": {
      "name": "python3",
      "display_name": "Python 3"
    }
  },
  "cells": [
    {
      "cell_type": "code",
      "metadata": {
        "id": "pLZzyeLKsk4F"
      },
      "source": [
        "from tqdm import tqdm"
      ],
      "execution_count": 2,
      "outputs": []
    },
    {
      "cell_type": "markdown",
      "metadata": {
        "id": "B9erBic3sw4E"
      },
      "source": [
        "### tqdm의 기본적인 사용 예시"
      ]
    },
    {
      "cell_type": "code",
      "metadata": {
        "colab": {
          "base_uri": "https://localhost:8080/"
        },
        "id": "qtnxhVIpslvs",
        "outputId": "eb4fce3a-004c-4852-a530-5483927ae98e"
      },
      "source": [
        "a = [0]*10000\r\n",
        "for i in tqdm(a):\r\n",
        "    continue"
      ],
      "execution_count": 5,
      "outputs": [
        {
          "output_type": "stream",
          "text": [
            "100%|██████████| 10000/10000 [00:00<00:00, 1739797.58it/s]\n"
          ],
          "name": "stderr"
        }
      ]
    },
    {
      "cell_type": "markdown",
      "metadata": {
        "id": "ysXtIR3btBpL"
      },
      "source": [
        "### tqdm 파라미터 설명\r\n",
        "- iterable : 반복자 객체\r\n",
        "- desc : 진행바 앞에 텍스트 출력\r\n",
        "- leave : bool, default=True.(진행상태 잔상이 남음)\r\n",
        "- ncols : 진행바 컬럼길이, width 값으로 pixel 단위로 보임.\r\n",
        "- mininterval, maxinterval : 업데이트 주기, 기본은 mininterval=0.1 sec, maxinterval=10sec\r\n",
        "- ascii : True로 하면 #문자가 진행바로 표시됨.\r\n",
        "- initial: 진행 시작값, 기본은 0\r\n",
        "- bar_format:str\r\n",
        "\r\n",
        "### 메소드\r\n",
        "- clear() : 삭제\r\n",
        "- refresh() : 강제 갱신"
      ]
    },
    {
      "cell_type": "code",
      "metadata": {
        "colab": {
          "base_uri": "https://localhost:8080/"
        },
        "id": "93Als-BMs0Q8",
        "outputId": "851b2d35-2ccd-4a1f-bf8e-0fbe4015ffa2"
      },
      "source": [
        "for i in tqdm(a, desc='tqdm example', mininterval=0.01):\r\n",
        "    continue"
      ],
      "execution_count": 7,
      "outputs": [
        {
          "output_type": "stream",
          "text": [
            "tqdm example: 100%|██████████| 10000/10000 [00:00<00:00, 1249606.44it/s]\n"
          ],
          "name": "stderr"
        }
      ]
    },
    {
      "cell_type": "markdown",
      "metadata": {
        "id": "UbVSbMVHuF7Q"
      },
      "source": [
        "### 사용법 2\r\n",
        "with 구문을 이용하여 수동으로 상태바를 컨트롤한다. update()으로 진행률을 증가시킬 수 있음"
      ]
    },
    {
      "cell_type": "code",
      "metadata": {
        "colab": {
          "base_uri": "https://localhost:8080/"
        },
        "id": "smYtEWT-uO_L",
        "outputId": "1c96b3af-b22d-4163-88f3-baf0cf5e7b97"
      },
      "source": [
        "import time\r\n",
        "with tqdm(total=100) as pbar:\r\n",
        "    for i in range(10):\r\n",
        "        time.sleep(0.1)\r\n",
        "        pbar.update(10)"
      ],
      "execution_count": 10,
      "outputs": [
        {
          "output_type": "stream",
          "text": [
            "100%|██████████| 100/100 [00:01<00:00, 98.49it/s]\n"
          ],
          "name": "stderr"
        }
      ]
    }
  ]
}